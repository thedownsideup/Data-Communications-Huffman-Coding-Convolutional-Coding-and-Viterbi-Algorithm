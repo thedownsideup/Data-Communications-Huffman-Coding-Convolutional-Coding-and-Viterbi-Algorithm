{
 "cells": [
  {
   "cell_type": "code",
   "execution_count": 17,
   "metadata": {},
   "outputs": [],
   "source": [
    "from scipy.io import loadmat\n",
    "import heapq\n",
    "import string"
   ]
  },
  {
   "cell_type": "code",
   "execution_count": 22,
   "metadata": {},
   "outputs": [
    {
     "name": "stdout",
     "output_type": "stream",
     "text": [
      "The alphabet is: ['a', 'b', 'c', 'd', 'e', 'f', 'g', 'h', 'i', 'j', 'k', 'l', 'm', 'n', 'o', 'p', 'q', 'r', 's', 't', 'u', 'v', 'w', 'x', 'y', 'z']\n"
     ]
    }
   ],
   "source": [
    "alphabet = list(string.ascii_lowercase)\n",
    "print(\"The alphabet is:\", alphabet)"
   ]
  },
  {
   "cell_type": "code",
   "execution_count": 20,
   "metadata": {},
   "outputs": [
    {
     "name": "stdout",
     "output_type": "stream",
     "text": [
      "Frequencies: \n",
      " [[0.08167]\n",
      " [0.01492]\n",
      " [0.02782]\n",
      " [0.04253]\n",
      " [0.12702]\n",
      " [0.02228]\n",
      " [0.02015]\n",
      " [0.06094]\n",
      " [0.06966]\n",
      " [0.00153]\n",
      " [0.00772]\n",
      " [0.04025]\n",
      " [0.02406]\n",
      " [0.06749]\n",
      " [0.07507]\n",
      " [0.01929]\n",
      " [0.00095]\n",
      " [0.05987]\n",
      " [0.06327]\n",
      " [0.09056]\n",
      " [0.02758]\n",
      " [0.00978]\n",
      " [0.0236 ]\n",
      " [0.0015 ]\n",
      " [0.01947]\n",
      " [0.00102]]\n"
     ]
    }
   ],
   "source": [
    "table = loadmat('freq.mat')\n",
    "frequencies = table['freq']\n",
    "print(\"Frequencies: \\n\", frequencies)"
   ]
  },
  {
   "cell_type": "code",
   "execution_count": 15,
   "metadata": {},
   "outputs": [],
   "source": [
    "class HeapNode:\n",
    "   \n",
    "    def __init__(self, char, freq):\n",
    "        self.char = char\n",
    "        self.freq = freq\n",
    "        self.left = None\n",
    "        self.right = None\n",
    "\n",
    "    def __gt__(self, other):\n",
    "        return self.freq > other.freq"
   ]
  },
  {
   "cell_type": "code",
   "execution_count": 33,
   "metadata": {},
   "outputs": [],
   "source": [
    "class HuffmanEncoder:\n",
    "    \n",
    "    def __init__(self, input_text, frequencies):\n",
    "        self.input_text = input_text\n",
    "        self.frequencies = frequencies\n",
    "        self.heap = []\n",
    "        self.codes = {}\n",
    "        self.reverse_mapping = {}\n",
    "        \n",
    "    def encode(self):\n",
    "        freq_dict = self.make_dict()\n",
    "        self.make_heap(freq_dict)\n",
    "        self.merge_nodes()\n",
    "        self.make_codes()\n",
    "        print(self.get_encoded(self.input_text))\n",
    "        \n",
    "    def make_dict(self):\n",
    "        return {k:v for k,v in zip(alphabet, frequencies)}\n",
    "        \n",
    "    def make_heap(self, freq_dict):\n",
    "        for key in alphabet:\n",
    "            node = HeapNode(key, freq_dict[key])\n",
    "            heapq.heappush(self.heap, node)\n",
    "            \n",
    "    def merge_nodes(self):\n",
    "        while(len(self.heap) > 1):\n",
    "            node1 = heapq.heappop(self.heap)\n",
    "            node2 = heapq.heappop(self.heap)\n",
    "\n",
    "            merged = HeapNode(None, node1.freq + node2.freq)\n",
    "            merged.left = node1\n",
    "            merged.right = node2\n",
    "\n",
    "            heapq.heappush(self.heap, merged)\n",
    "            \n",
    "    \n",
    "    def recursive_make_codes(self, root, current_code):\n",
    "        if(root == None):\n",
    "            return\n",
    "\n",
    "        if(root.char != None):\n",
    "            self.codes[root.char] = current_code\n",
    "            self.reverse_mapping[current_code] = root.char\n",
    "            return\n",
    "\n",
    "        self.recursive_make_codes(root.left, current_code + \"0\")\n",
    "        self.recursive_make_codes(root.right, current_code + \"1\")\n",
    "\n",
    "\n",
    "    def make_codes(self):\n",
    "        root = heapq.heappop(self.heap)\n",
    "        current_code = \"\"\n",
    "        self.recursive_make_codes(root, current_code)\n",
    "        \n",
    "    def get_encoded(self, text):\n",
    "        encoded_text = \"\"\n",
    "        for character in text:\n",
    "            encoded_text += self.codes[character]\n",
    "        return encoded_text"
   ]
  },
  {
   "cell_type": "markdown",
   "metadata": {},
   "source": [
    "https://bhrigu.me/blog/2017/01/17/huffman-coding-python-implementation/"
   ]
  },
  {
   "cell_type": "code",
   "execution_count": 34,
   "metadata": {},
   "outputs": [
    {
     "name": "stdout",
     "output_type": "stream",
     "text": [
      "001111110011001111110100011100101111110101011111111001011011\n"
     ]
    }
   ],
   "source": [
    "huffman_encoder = HuffmanEncoder(\"mahsaeskandari\", frequencies)\n",
    "huffman_encoder.encode()"
   ]
  },
  {
   "cell_type": "code",
   "execution_count": null,
   "metadata": {},
   "outputs": [],
   "source": []
  }
 ],
 "metadata": {
  "kernelspec": {
   "display_name": "Python 3.7.3 64-bit ('base': conda)",
   "language": "python",
   "name": "python37364bitbaseconda85cb869ba3f54f519968a1db97ce143c"
  },
  "language_info": {
   "codemirror_mode": {
    "name": "ipython",
    "version": 3
   },
   "file_extension": ".py",
   "mimetype": "text/x-python",
   "name": "python",
   "nbconvert_exporter": "python",
   "pygments_lexer": "ipython3",
   "version": "3.7.3"
  }
 },
 "nbformat": 4,
 "nbformat_minor": 2
}
